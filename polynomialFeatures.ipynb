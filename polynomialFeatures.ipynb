{
  "nbformat": 4,
  "nbformat_minor": 0,
  "metadata": {
    "colab": {
      "provenance": [],
      "include_colab_link": true
    },
    "kernelspec": {
      "name": "python3",
      "display_name": "Python 3"
    },
    "language_info": {
      "name": "python"
    }
  },
  "cells": [
    {
      "cell_type": "markdown",
      "metadata": {
        "id": "view-in-github",
        "colab_type": "text"
      },
      "source": [
        "<a href=\"https://colab.research.google.com/github/Kantdrav/MLP/blob/main/polynomialFeatures.ipynb\" target=\"_parent\"><img src=\"https://colab.research.google.com/assets/colab-badge.svg\" alt=\"Open In Colab\"/></a>"
      ]
    },
    {
      "cell_type": "code",
      "execution_count": null,
      "metadata": {
        "id": "pgbMpLUy-prB"
      },
      "outputs": [],
      "source": [
        "import pandas as pd\n",
        "import numpy as np"
      ]
    },
    {
      "cell_type": "code",
      "source": [
        "np.random.seed(42)\n",
        "data = np.random.randint(100,120, (3,7))\n",
        "data = pd.DataFrame(data)\n",
        "data"
      ],
      "metadata": {
        "id": "-_phuBguMCHa",
        "outputId": "634737ba-b86d-442e-9541-a0fb288147ab",
        "colab": {
          "base_uri": "https://localhost:8080/",
          "height": 143
        }
      },
      "execution_count": null,
      "outputs": [
        {
          "output_type": "execute_result",
          "data": {
            "text/plain": [
              "     0    1    2    3    4    5    6\n",
              "0  106  119  114  110  107  106  118\n",
              "1  110  110  103  107  102  101  111\n",
              "2  105  101  100  111  111  116  109"
            ],
            "text/html": [
              "\n",
              "  <div id=\"df-c357676f-ac88-4168-adc1-bb587d98447b\" class=\"colab-df-container\">\n",
              "    <div>\n",
              "<style scoped>\n",
              "    .dataframe tbody tr th:only-of-type {\n",
              "        vertical-align: middle;\n",
              "    }\n",
              "\n",
              "    .dataframe tbody tr th {\n",
              "        vertical-align: top;\n",
              "    }\n",
              "\n",
              "    .dataframe thead th {\n",
              "        text-align: right;\n",
              "    }\n",
              "</style>\n",
              "<table border=\"1\" class=\"dataframe\">\n",
              "  <thead>\n",
              "    <tr style=\"text-align: right;\">\n",
              "      <th></th>\n",
              "      <th>0</th>\n",
              "      <th>1</th>\n",
              "      <th>2</th>\n",
              "      <th>3</th>\n",
              "      <th>4</th>\n",
              "      <th>5</th>\n",
              "      <th>6</th>\n",
              "    </tr>\n",
              "  </thead>\n",
              "  <tbody>\n",
              "    <tr>\n",
              "      <th>0</th>\n",
              "      <td>106</td>\n",
              "      <td>119</td>\n",
              "      <td>114</td>\n",
              "      <td>110</td>\n",
              "      <td>107</td>\n",
              "      <td>106</td>\n",
              "      <td>118</td>\n",
              "    </tr>\n",
              "    <tr>\n",
              "      <th>1</th>\n",
              "      <td>110</td>\n",
              "      <td>110</td>\n",
              "      <td>103</td>\n",
              "      <td>107</td>\n",
              "      <td>102</td>\n",
              "      <td>101</td>\n",
              "      <td>111</td>\n",
              "    </tr>\n",
              "    <tr>\n",
              "      <th>2</th>\n",
              "      <td>105</td>\n",
              "      <td>101</td>\n",
              "      <td>100</td>\n",
              "      <td>111</td>\n",
              "      <td>111</td>\n",
              "      <td>116</td>\n",
              "      <td>109</td>\n",
              "    </tr>\n",
              "  </tbody>\n",
              "</table>\n",
              "</div>\n",
              "    <div class=\"colab-df-buttons\">\n",
              "\n",
              "  <div class=\"colab-df-container\">\n",
              "    <button class=\"colab-df-convert\" onclick=\"convertToInteractive('df-c357676f-ac88-4168-adc1-bb587d98447b')\"\n",
              "            title=\"Convert this dataframe to an interactive table.\"\n",
              "            style=\"display:none;\">\n",
              "\n",
              "  <svg xmlns=\"http://www.w3.org/2000/svg\" height=\"24px\" viewBox=\"0 -960 960 960\">\n",
              "    <path d=\"M120-120v-720h720v720H120Zm60-500h600v-160H180v160Zm220 220h160v-160H400v160Zm0 220h160v-160H400v160ZM180-400h160v-160H180v160Zm440 0h160v-160H620v160ZM180-180h160v-160H180v160Zm440 0h160v-160H620v160Z\"/>\n",
              "  </svg>\n",
              "    </button>\n",
              "\n",
              "  <style>\n",
              "    .colab-df-container {\n",
              "      display:flex;\n",
              "      gap: 12px;\n",
              "    }\n",
              "\n",
              "    .colab-df-convert {\n",
              "      background-color: #E8F0FE;\n",
              "      border: none;\n",
              "      border-radius: 50%;\n",
              "      cursor: pointer;\n",
              "      display: none;\n",
              "      fill: #1967D2;\n",
              "      height: 32px;\n",
              "      padding: 0 0 0 0;\n",
              "      width: 32px;\n",
              "    }\n",
              "\n",
              "    .colab-df-convert:hover {\n",
              "      background-color: #E2EBFA;\n",
              "      box-shadow: 0px 1px 2px rgba(60, 64, 67, 0.3), 0px 1px 3px 1px rgba(60, 64, 67, 0.15);\n",
              "      fill: #174EA6;\n",
              "    }\n",
              "\n",
              "    .colab-df-buttons div {\n",
              "      margin-bottom: 4px;\n",
              "    }\n",
              "\n",
              "    [theme=dark] .colab-df-convert {\n",
              "      background-color: #3B4455;\n",
              "      fill: #D2E3FC;\n",
              "    }\n",
              "\n",
              "    [theme=dark] .colab-df-convert:hover {\n",
              "      background-color: #434B5C;\n",
              "      box-shadow: 0px 1px 3px 1px rgba(0, 0, 0, 0.15);\n",
              "      filter: drop-shadow(0px 1px 2px rgba(0, 0, 0, 0.3));\n",
              "      fill: #FFFFFF;\n",
              "    }\n",
              "  </style>\n",
              "\n",
              "    <script>\n",
              "      const buttonEl =\n",
              "        document.querySelector('#df-c357676f-ac88-4168-adc1-bb587d98447b button.colab-df-convert');\n",
              "      buttonEl.style.display =\n",
              "        google.colab.kernel.accessAllowed ? 'block' : 'none';\n",
              "\n",
              "      async function convertToInteractive(key) {\n",
              "        const element = document.querySelector('#df-c357676f-ac88-4168-adc1-bb587d98447b');\n",
              "        const dataTable =\n",
              "          await google.colab.kernel.invokeFunction('convertToInteractive',\n",
              "                                                    [key], {});\n",
              "        if (!dataTable) return;\n",
              "\n",
              "        const docLinkHtml = 'Like what you see? Visit the ' +\n",
              "          '<a target=\"_blank\" href=https://colab.research.google.com/notebooks/data_table.ipynb>data table notebook</a>'\n",
              "          + ' to learn more about interactive tables.';\n",
              "        element.innerHTML = '';\n",
              "        dataTable['output_type'] = 'display_data';\n",
              "        await google.colab.output.renderOutput(dataTable, element);\n",
              "        const docLink = document.createElement('div');\n",
              "        docLink.innerHTML = docLinkHtml;\n",
              "        element.appendChild(docLink);\n",
              "      }\n",
              "    </script>\n",
              "  </div>\n",
              "\n",
              "\n",
              "<div id=\"df-5f928849-27b1-4500-89ab-d613bf546f1b\">\n",
              "  <button class=\"colab-df-quickchart\" onclick=\"quickchart('df-5f928849-27b1-4500-89ab-d613bf546f1b')\"\n",
              "            title=\"Suggest charts\"\n",
              "            style=\"display:none;\">\n",
              "\n",
              "<svg xmlns=\"http://www.w3.org/2000/svg\" height=\"24px\"viewBox=\"0 0 24 24\"\n",
              "     width=\"24px\">\n",
              "    <g>\n",
              "        <path d=\"M19 3H5c-1.1 0-2 .9-2 2v14c0 1.1.9 2 2 2h14c1.1 0 2-.9 2-2V5c0-1.1-.9-2-2-2zM9 17H7v-7h2v7zm4 0h-2V7h2v10zm4 0h-2v-4h2v4z\"/>\n",
              "    </g>\n",
              "</svg>\n",
              "  </button>\n",
              "\n",
              "<style>\n",
              "  .colab-df-quickchart {\n",
              "      --bg-color: #E8F0FE;\n",
              "      --fill-color: #1967D2;\n",
              "      --hover-bg-color: #E2EBFA;\n",
              "      --hover-fill-color: #174EA6;\n",
              "      --disabled-fill-color: #AAA;\n",
              "      --disabled-bg-color: #DDD;\n",
              "  }\n",
              "\n",
              "  [theme=dark] .colab-df-quickchart {\n",
              "      --bg-color: #3B4455;\n",
              "      --fill-color: #D2E3FC;\n",
              "      --hover-bg-color: #434B5C;\n",
              "      --hover-fill-color: #FFFFFF;\n",
              "      --disabled-bg-color: #3B4455;\n",
              "      --disabled-fill-color: #666;\n",
              "  }\n",
              "\n",
              "  .colab-df-quickchart {\n",
              "    background-color: var(--bg-color);\n",
              "    border: none;\n",
              "    border-radius: 50%;\n",
              "    cursor: pointer;\n",
              "    display: none;\n",
              "    fill: var(--fill-color);\n",
              "    height: 32px;\n",
              "    padding: 0;\n",
              "    width: 32px;\n",
              "  }\n",
              "\n",
              "  .colab-df-quickchart:hover {\n",
              "    background-color: var(--hover-bg-color);\n",
              "    box-shadow: 0 1px 2px rgba(60, 64, 67, 0.3), 0 1px 3px 1px rgba(60, 64, 67, 0.15);\n",
              "    fill: var(--button-hover-fill-color);\n",
              "  }\n",
              "\n",
              "  .colab-df-quickchart-complete:disabled,\n",
              "  .colab-df-quickchart-complete:disabled:hover {\n",
              "    background-color: var(--disabled-bg-color);\n",
              "    fill: var(--disabled-fill-color);\n",
              "    box-shadow: none;\n",
              "  }\n",
              "\n",
              "  .colab-df-spinner {\n",
              "    border: 2px solid var(--fill-color);\n",
              "    border-color: transparent;\n",
              "    border-bottom-color: var(--fill-color);\n",
              "    animation:\n",
              "      spin 1s steps(1) infinite;\n",
              "  }\n",
              "\n",
              "  @keyframes spin {\n",
              "    0% {\n",
              "      border-color: transparent;\n",
              "      border-bottom-color: var(--fill-color);\n",
              "      border-left-color: var(--fill-color);\n",
              "    }\n",
              "    20% {\n",
              "      border-color: transparent;\n",
              "      border-left-color: var(--fill-color);\n",
              "      border-top-color: var(--fill-color);\n",
              "    }\n",
              "    30% {\n",
              "      border-color: transparent;\n",
              "      border-left-color: var(--fill-color);\n",
              "      border-top-color: var(--fill-color);\n",
              "      border-right-color: var(--fill-color);\n",
              "    }\n",
              "    40% {\n",
              "      border-color: transparent;\n",
              "      border-right-color: var(--fill-color);\n",
              "      border-top-color: var(--fill-color);\n",
              "    }\n",
              "    60% {\n",
              "      border-color: transparent;\n",
              "      border-right-color: var(--fill-color);\n",
              "    }\n",
              "    80% {\n",
              "      border-color: transparent;\n",
              "      border-right-color: var(--fill-color);\n",
              "      border-bottom-color: var(--fill-color);\n",
              "    }\n",
              "    90% {\n",
              "      border-color: transparent;\n",
              "      border-bottom-color: var(--fill-color);\n",
              "    }\n",
              "  }\n",
              "</style>\n",
              "\n",
              "  <script>\n",
              "    async function quickchart(key) {\n",
              "      const quickchartButtonEl =\n",
              "        document.querySelector('#' + key + ' button');\n",
              "      quickchartButtonEl.disabled = true;  // To prevent multiple clicks.\n",
              "      quickchartButtonEl.classList.add('colab-df-spinner');\n",
              "      try {\n",
              "        const charts = await google.colab.kernel.invokeFunction(\n",
              "            'suggestCharts', [key], {});\n",
              "      } catch (error) {\n",
              "        console.error('Error during call to suggestCharts:', error);\n",
              "      }\n",
              "      quickchartButtonEl.classList.remove('colab-df-spinner');\n",
              "      quickchartButtonEl.classList.add('colab-df-quickchart-complete');\n",
              "    }\n",
              "    (() => {\n",
              "      let quickchartButtonEl =\n",
              "        document.querySelector('#df-5f928849-27b1-4500-89ab-d613bf546f1b button');\n",
              "      quickchartButtonEl.style.display =\n",
              "        google.colab.kernel.accessAllowed ? 'block' : 'none';\n",
              "    })();\n",
              "  </script>\n",
              "</div>\n",
              "    </div>\n",
              "  </div>\n"
            ],
            "application/vnd.google.colaboratory.intrinsic+json": {
              "type": "dataframe",
              "variable_name": "data",
              "summary": "{\n  \"name\": \"data\",\n  \"rows\": 3,\n  \"fields\": [\n    {\n      \"column\": 0,\n      \"properties\": {\n        \"dtype\": \"number\",\n        \"std\": 2,\n        \"min\": 105,\n        \"max\": 110,\n        \"num_unique_values\": 3,\n        \"samples\": [\n          106,\n          110,\n          105\n        ],\n        \"semantic_type\": \"\",\n        \"description\": \"\"\n      }\n    },\n    {\n      \"column\": 1,\n      \"properties\": {\n        \"dtype\": \"number\",\n        \"std\": 9,\n        \"min\": 101,\n        \"max\": 119,\n        \"num_unique_values\": 3,\n        \"samples\": [\n          119,\n          110,\n          101\n        ],\n        \"semantic_type\": \"\",\n        \"description\": \"\"\n      }\n    },\n    {\n      \"column\": 2,\n      \"properties\": {\n        \"dtype\": \"number\",\n        \"std\": 7,\n        \"min\": 100,\n        \"max\": 114,\n        \"num_unique_values\": 3,\n        \"samples\": [\n          114,\n          103,\n          100\n        ],\n        \"semantic_type\": \"\",\n        \"description\": \"\"\n      }\n    },\n    {\n      \"column\": 3,\n      \"properties\": {\n        \"dtype\": \"number\",\n        \"std\": 2,\n        \"min\": 107,\n        \"max\": 111,\n        \"num_unique_values\": 3,\n        \"samples\": [\n          110,\n          107,\n          111\n        ],\n        \"semantic_type\": \"\",\n        \"description\": \"\"\n      }\n    },\n    {\n      \"column\": 4,\n      \"properties\": {\n        \"dtype\": \"number\",\n        \"std\": 4,\n        \"min\": 102,\n        \"max\": 111,\n        \"num_unique_values\": 3,\n        \"samples\": [\n          107,\n          102,\n          111\n        ],\n        \"semantic_type\": \"\",\n        \"description\": \"\"\n      }\n    },\n    {\n      \"column\": 5,\n      \"properties\": {\n        \"dtype\": \"number\",\n        \"std\": 7,\n        \"min\": 101,\n        \"max\": 116,\n        \"num_unique_values\": 3,\n        \"samples\": [\n          106,\n          101,\n          116\n        ],\n        \"semantic_type\": \"\",\n        \"description\": \"\"\n      }\n    },\n    {\n      \"column\": 6,\n      \"properties\": {\n        \"dtype\": \"number\",\n        \"std\": 4,\n        \"min\": 109,\n        \"max\": 118,\n        \"num_unique_values\": 3,\n        \"samples\": [\n          118,\n          111,\n          109\n        ],\n        \"semantic_type\": \"\",\n        \"description\": \"\"\n      }\n    }\n  ]\n}"
            }
          },
          "metadata": {},
          "execution_count": 2
        }
      ]
    },
    {
      "cell_type": "markdown",
      "source": [
        "# PolynomialFeatures(degree=4,interaction_only=True, include_bias=False)\n",
        "\n",
        "$$ \\verb| No. of columns after transformation| = {}^n{C_1} +{}^n{C_2} +{}^n{C_3} + .... {}^n{C_d} $$\n",
        "\n",
        "n = Initial no. of features(columns) = 7\\\n",
        "d = degree = 4\n",
        "\n",
        "number of columns $ = {}^7{C_1} + {}^7{C_2} + {}^7{C_3} + {}^7{C_4}$ \\\n",
        "= 7 + 21 + 35 + 35 \\\n",
        "= 98\n",
        "\n",
        "if bias is inculded = 99"
      ],
      "metadata": {
        "id": "m9OiFmN2_aVe"
      }
    },
    {
      "cell_type": "code",
      "source": [],
      "metadata": {
        "id": "9qdywYgqL9QJ"
      },
      "execution_count": null,
      "outputs": []
    },
    {
      "cell_type": "code",
      "source": [
        "from sklearn.preprocessing import PolynomialFeatures\n",
        "pf = PolynomialFeatures(degree=4,interaction_only=True, include_bias=False)\n",
        "pf.fit(data)\n",
        "pf.get_feature_names_out().shape[0]"
      ],
      "metadata": {
        "id": "psmIEwH1vzaG",
        "outputId": "3bcd347d-e888-4d2e-e5c7-4859c59a8e29",
        "colab": {
          "base_uri": "https://localhost:8080/"
        }
      },
      "execution_count": null,
      "outputs": [
        {
          "output_type": "execute_result",
          "data": {
            "text/plain": [
              "98"
            ]
          },
          "metadata": {},
          "execution_count": 6
        }
      ]
    },
    {
      "cell_type": "code",
      "source": [
        "pf.get_feature_names_out()"
      ],
      "metadata": {
        "colab": {
          "base_uri": "https://localhost:8080/"
        },
        "id": "vKFW6FjOOWwg",
        "outputId": "07543703-9508-4bb2-c416-f95846ad5757"
      },
      "execution_count": null,
      "outputs": [
        {
          "output_type": "execute_result",
          "data": {
            "text/plain": [
              "array(['x0', 'x1', 'x2', 'x3', 'x4', 'x5', 'x6', 'x0 x1', 'x0 x2',\n",
              "       'x0 x3', 'x0 x4', 'x0 x5', 'x0 x6', 'x1 x2', 'x1 x3', 'x1 x4',\n",
              "       'x1 x5', 'x1 x6', 'x2 x3', 'x2 x4', 'x2 x5', 'x2 x6', 'x3 x4',\n",
              "       'x3 x5', 'x3 x6', 'x4 x5', 'x4 x6', 'x5 x6', 'x0 x1 x2',\n",
              "       'x0 x1 x3', 'x0 x1 x4', 'x0 x1 x5', 'x0 x1 x6', 'x0 x2 x3',\n",
              "       'x0 x2 x4', 'x0 x2 x5', 'x0 x2 x6', 'x0 x3 x4', 'x0 x3 x5',\n",
              "       'x0 x3 x6', 'x0 x4 x5', 'x0 x4 x6', 'x0 x5 x6', 'x1 x2 x3',\n",
              "       'x1 x2 x4', 'x1 x2 x5', 'x1 x2 x6', 'x1 x3 x4', 'x1 x3 x5',\n",
              "       'x1 x3 x6', 'x1 x4 x5', 'x1 x4 x6', 'x1 x5 x6', 'x2 x3 x4',\n",
              "       'x2 x3 x5', 'x2 x3 x6', 'x2 x4 x5', 'x2 x4 x6', 'x2 x5 x6',\n",
              "       'x3 x4 x5', 'x3 x4 x6', 'x3 x5 x6', 'x4 x5 x6', 'x0 x1 x2 x3',\n",
              "       'x0 x1 x2 x4', 'x0 x1 x2 x5', 'x0 x1 x2 x6', 'x0 x1 x3 x4',\n",
              "       'x0 x1 x3 x5', 'x0 x1 x3 x6', 'x0 x1 x4 x5', 'x0 x1 x4 x6',\n",
              "       'x0 x1 x5 x6', 'x0 x2 x3 x4', 'x0 x2 x3 x5', 'x0 x2 x3 x6',\n",
              "       'x0 x2 x4 x5', 'x0 x2 x4 x6', 'x0 x2 x5 x6', 'x0 x3 x4 x5',\n",
              "       'x0 x3 x4 x6', 'x0 x3 x5 x6', 'x0 x4 x5 x6', 'x1 x2 x3 x4',\n",
              "       'x1 x2 x3 x5', 'x1 x2 x3 x6', 'x1 x2 x4 x5', 'x1 x2 x4 x6',\n",
              "       'x1 x2 x5 x6', 'x1 x3 x4 x5', 'x1 x3 x4 x6', 'x1 x3 x5 x6',\n",
              "       'x1 x4 x5 x6', 'x2 x3 x4 x5', 'x2 x3 x4 x6', 'x2 x3 x5 x6',\n",
              "       'x2 x4 x5 x6', 'x3 x4 x5 x6'], dtype=object)"
            ]
          },
          "metadata": {},
          "execution_count": 7
        }
      ]
    },
    {
      "cell_type": "markdown",
      "source": [
        "# pf = PolynomialFeatures(degree=4,interaction_only=False, include_bias=True)\n",
        "\n",
        "The formula to calculate the total number of columns after applying `PolynomialFeatures(interaction_only=False)` with a given degree to a dataset with n features is given by:\n",
        "\n",
        "$$\\frac{(n + d)!}{d! \\cdot n!}$$\n",
        "\n",
        "where:\n",
        "- \\( n \\) is the number of input features (columns), = 7\n",
        "- \\( d \\) is the specified degree of polynomial transformation = 4\n",
        "- \\( ! \\) denotes the factorial.\n",
        "\n",
        "if you have 7 input features (x0, x1, x2,x3,x4,x5,x6) and you want to calculate the total number of columns for a polynomial transformation of degree 4, you substitute (n = 7) and (d = 4) into the formula:\n",
        "\n",
        "$$\\frac{(7 + 4)!}{7! \\cdot 4!} $$\n",
        "\n",
        "Here's the calculation:\n",
        "\n",
        "$$ \\frac{11!}{7! \\cdot 4!} = \\frac{39916800}{120960} = 330 $$\n",
        "\n",
        "So, for a polynomial transformation of degree 4 with 7 input features, you would get a total of 330 columns."
      ],
      "metadata": {
        "id": "nScal6UcBCu3"
      }
    },
    {
      "cell_type": "code",
      "source": [
        "from sklearn.preprocessing import PolynomialFeatures\n",
        "pf = PolynomialFeatures(degree=4,interaction_only=False, include_bias=True)\n",
        "pf.fit(data)\n",
        "pf.get_feature_names_out().shape[0]"
      ],
      "metadata": {
        "colab": {
          "base_uri": "https://localhost:8080/"
        },
        "id": "Q7FwhtwvBDv7",
        "outputId": "ffa571d9-e498-432f-d030-0f99c0df50d6"
      },
      "execution_count": null,
      "outputs": [
        {
          "output_type": "execute_result",
          "data": {
            "text/plain": [
              "330"
            ]
          },
          "metadata": {},
          "execution_count": 8
        }
      ]
    },
    {
      "cell_type": "code",
      "source": [
        "pf.get_feature_names_out()"
      ],
      "metadata": {
        "colab": {
          "base_uri": "https://localhost:8080/"
        },
        "id": "3yxb-kuFNND1",
        "outputId": "5638fc8b-7b8f-4e00-fb48-725546c52dbe"
      },
      "execution_count": null,
      "outputs": [
        {
          "output_type": "execute_result",
          "data": {
            "text/plain": [
              "array(['1', 'x0', 'x1', 'x2', 'x3', 'x4', 'x5', 'x6', 'x0^2', 'x0 x1',\n",
              "       'x0 x2', 'x0 x3', 'x0 x4', 'x0 x5', 'x0 x6', 'x1^2', 'x1 x2',\n",
              "       'x1 x3', 'x1 x4', 'x1 x5', 'x1 x6', 'x2^2', 'x2 x3', 'x2 x4',\n",
              "       'x2 x5', 'x2 x6', 'x3^2', 'x3 x4', 'x3 x5', 'x3 x6', 'x4^2',\n",
              "       'x4 x5', 'x4 x6', 'x5^2', 'x5 x6', 'x6^2', 'x0^3', 'x0^2 x1',\n",
              "       'x0^2 x2', 'x0^2 x3', 'x0^2 x4', 'x0^2 x5', 'x0^2 x6', 'x0 x1^2',\n",
              "       'x0 x1 x2', 'x0 x1 x3', 'x0 x1 x4', 'x0 x1 x5', 'x0 x1 x6',\n",
              "       'x0 x2^2', 'x0 x2 x3', 'x0 x2 x4', 'x0 x2 x5', 'x0 x2 x6',\n",
              "       'x0 x3^2', 'x0 x3 x4', 'x0 x3 x5', 'x0 x3 x6', 'x0 x4^2',\n",
              "       'x0 x4 x5', 'x0 x4 x6', 'x0 x5^2', 'x0 x5 x6', 'x0 x6^2', 'x1^3',\n",
              "       'x1^2 x2', 'x1^2 x3', 'x1^2 x4', 'x1^2 x5', 'x1^2 x6', 'x1 x2^2',\n",
              "       'x1 x2 x3', 'x1 x2 x4', 'x1 x2 x5', 'x1 x2 x6', 'x1 x3^2',\n",
              "       'x1 x3 x4', 'x1 x3 x5', 'x1 x3 x6', 'x1 x4^2', 'x1 x4 x5',\n",
              "       'x1 x4 x6', 'x1 x5^2', 'x1 x5 x6', 'x1 x6^2', 'x2^3', 'x2^2 x3',\n",
              "       'x2^2 x4', 'x2^2 x5', 'x2^2 x6', 'x2 x3^2', 'x2 x3 x4', 'x2 x3 x5',\n",
              "       'x2 x3 x6', 'x2 x4^2', 'x2 x4 x5', 'x2 x4 x6', 'x2 x5^2',\n",
              "       'x2 x5 x6', 'x2 x6^2', 'x3^3', 'x3^2 x4', 'x3^2 x5', 'x3^2 x6',\n",
              "       'x3 x4^2', 'x3 x4 x5', 'x3 x4 x6', 'x3 x5^2', 'x3 x5 x6',\n",
              "       'x3 x6^2', 'x4^3', 'x4^2 x5', 'x4^2 x6', 'x4 x5^2', 'x4 x5 x6',\n",
              "       'x4 x6^2', 'x5^3', 'x5^2 x6', 'x5 x6^2', 'x6^3', 'x0^4', 'x0^3 x1',\n",
              "       'x0^3 x2', 'x0^3 x3', 'x0^3 x4', 'x0^3 x5', 'x0^3 x6', 'x0^2 x1^2',\n",
              "       'x0^2 x1 x2', 'x0^2 x1 x3', 'x0^2 x1 x4', 'x0^2 x1 x5',\n",
              "       'x0^2 x1 x6', 'x0^2 x2^2', 'x0^2 x2 x3', 'x0^2 x2 x4',\n",
              "       'x0^2 x2 x5', 'x0^2 x2 x6', 'x0^2 x3^2', 'x0^2 x3 x4',\n",
              "       'x0^2 x3 x5', 'x0^2 x3 x6', 'x0^2 x4^2', 'x0^2 x4 x5',\n",
              "       'x0^2 x4 x6', 'x0^2 x5^2', 'x0^2 x5 x6', 'x0^2 x6^2', 'x0 x1^3',\n",
              "       'x0 x1^2 x2', 'x0 x1^2 x3', 'x0 x1^2 x4', 'x0 x1^2 x5',\n",
              "       'x0 x1^2 x6', 'x0 x1 x2^2', 'x0 x1 x2 x3', 'x0 x1 x2 x4',\n",
              "       'x0 x1 x2 x5', 'x0 x1 x2 x6', 'x0 x1 x3^2', 'x0 x1 x3 x4',\n",
              "       'x0 x1 x3 x5', 'x0 x1 x3 x6', 'x0 x1 x4^2', 'x0 x1 x4 x5',\n",
              "       'x0 x1 x4 x6', 'x0 x1 x5^2', 'x0 x1 x5 x6', 'x0 x1 x6^2',\n",
              "       'x0 x2^3', 'x0 x2^2 x3', 'x0 x2^2 x4', 'x0 x2^2 x5', 'x0 x2^2 x6',\n",
              "       'x0 x2 x3^2', 'x0 x2 x3 x4', 'x0 x2 x3 x5', 'x0 x2 x3 x6',\n",
              "       'x0 x2 x4^2', 'x0 x2 x4 x5', 'x0 x2 x4 x6', 'x0 x2 x5^2',\n",
              "       'x0 x2 x5 x6', 'x0 x2 x6^2', 'x0 x3^3', 'x0 x3^2 x4', 'x0 x3^2 x5',\n",
              "       'x0 x3^2 x6', 'x0 x3 x4^2', 'x0 x3 x4 x5', 'x0 x3 x4 x6',\n",
              "       'x0 x3 x5^2', 'x0 x3 x5 x6', 'x0 x3 x6^2', 'x0 x4^3', 'x0 x4^2 x5',\n",
              "       'x0 x4^2 x6', 'x0 x4 x5^2', 'x0 x4 x5 x6', 'x0 x4 x6^2', 'x0 x5^3',\n",
              "       'x0 x5^2 x6', 'x0 x5 x6^2', 'x0 x6^3', 'x1^4', 'x1^3 x2',\n",
              "       'x1^3 x3', 'x1^3 x4', 'x1^3 x5', 'x1^3 x6', 'x1^2 x2^2',\n",
              "       'x1^2 x2 x3', 'x1^2 x2 x4', 'x1^2 x2 x5', 'x1^2 x2 x6',\n",
              "       'x1^2 x3^2', 'x1^2 x3 x4', 'x1^2 x3 x5', 'x1^2 x3 x6', 'x1^2 x4^2',\n",
              "       'x1^2 x4 x5', 'x1^2 x4 x6', 'x1^2 x5^2', 'x1^2 x5 x6', 'x1^2 x6^2',\n",
              "       'x1 x2^3', 'x1 x2^2 x3', 'x1 x2^2 x4', 'x1 x2^2 x5', 'x1 x2^2 x6',\n",
              "       'x1 x2 x3^2', 'x1 x2 x3 x4', 'x1 x2 x3 x5', 'x1 x2 x3 x6',\n",
              "       'x1 x2 x4^2', 'x1 x2 x4 x5', 'x1 x2 x4 x6', 'x1 x2 x5^2',\n",
              "       'x1 x2 x5 x6', 'x1 x2 x6^2', 'x1 x3^3', 'x1 x3^2 x4', 'x1 x3^2 x5',\n",
              "       'x1 x3^2 x6', 'x1 x3 x4^2', 'x1 x3 x4 x5', 'x1 x3 x4 x6',\n",
              "       'x1 x3 x5^2', 'x1 x3 x5 x6', 'x1 x3 x6^2', 'x1 x4^3', 'x1 x4^2 x5',\n",
              "       'x1 x4^2 x6', 'x1 x4 x5^2', 'x1 x4 x5 x6', 'x1 x4 x6^2', 'x1 x5^3',\n",
              "       'x1 x5^2 x6', 'x1 x5 x6^2', 'x1 x6^3', 'x2^4', 'x2^3 x3',\n",
              "       'x2^3 x4', 'x2^3 x5', 'x2^3 x6', 'x2^2 x3^2', 'x2^2 x3 x4',\n",
              "       'x2^2 x3 x5', 'x2^2 x3 x6', 'x2^2 x4^2', 'x2^2 x4 x5',\n",
              "       'x2^2 x4 x6', 'x2^2 x5^2', 'x2^2 x5 x6', 'x2^2 x6^2', 'x2 x3^3',\n",
              "       'x2 x3^2 x4', 'x2 x3^2 x5', 'x2 x3^2 x6', 'x2 x3 x4^2',\n",
              "       'x2 x3 x4 x5', 'x2 x3 x4 x6', 'x2 x3 x5^2', 'x2 x3 x5 x6',\n",
              "       'x2 x3 x6^2', 'x2 x4^3', 'x2 x4^2 x5', 'x2 x4^2 x6', 'x2 x4 x5^2',\n",
              "       'x2 x4 x5 x6', 'x2 x4 x6^2', 'x2 x5^3', 'x2 x5^2 x6', 'x2 x5 x6^2',\n",
              "       'x2 x6^3', 'x3^4', 'x3^3 x4', 'x3^3 x5', 'x3^3 x6', 'x3^2 x4^2',\n",
              "       'x3^2 x4 x5', 'x3^2 x4 x6', 'x3^2 x5^2', 'x3^2 x5 x6', 'x3^2 x6^2',\n",
              "       'x3 x4^3', 'x3 x4^2 x5', 'x3 x4^2 x6', 'x3 x4 x5^2', 'x3 x4 x5 x6',\n",
              "       'x3 x4 x6^2', 'x3 x5^3', 'x3 x5^2 x6', 'x3 x5 x6^2', 'x3 x6^3',\n",
              "       'x4^4', 'x4^3 x5', 'x4^3 x6', 'x4^2 x5^2', 'x4^2 x5 x6',\n",
              "       'x4^2 x6^2', 'x4 x5^3', 'x4 x5^2 x6', 'x4 x5 x6^2', 'x4 x6^3',\n",
              "       'x5^4', 'x5^3 x6', 'x5^2 x6^2', 'x5 x6^3', 'x6^4'], dtype=object)"
            ]
          },
          "metadata": {},
          "execution_count": 9
        }
      ]
    },
    {
      "cell_type": "code",
      "source": [
        "pipe [steps = [scaling , model]]\n",
        "\n",
        "scaling_parameters = []\n",
        "model_parameters = [1,2,3]\n",
        "gridsearch (pipe)"
      ],
      "metadata": {
        "id": "4OfjYD2Yicn8"
      },
      "execution_count": null,
      "outputs": []
    }
  ]
}